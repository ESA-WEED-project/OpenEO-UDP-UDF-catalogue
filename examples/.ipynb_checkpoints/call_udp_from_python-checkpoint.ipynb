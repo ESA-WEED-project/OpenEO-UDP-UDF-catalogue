{
 "cells": [
  {
   "cell_type": "markdown",
   "id": "49faf2ae",
   "metadata": {},
   "source": [
    "# Example how to execute UDP (user defined processed)\n",
    "This script explains how to use UDP's designed in the PEOPLE project. <br>\n",
    "The UDP's always give back a DataCube or a VectorCube (specified in the description of the UDP <br>\n",
    "<br>"
   ]
  },
  {
   "cell_type": "code",
   "execution_count": 1,
   "id": "45414457",
   "metadata": {},
   "outputs": [],
   "source": [
    "import openeo"
   ]
  },
  {
   "cell_type": "code",
   "execution_count": 2,
   "id": "3236b2a9",
   "metadata": {},
   "outputs": [
    {
     "name": "stdout",
     "output_type": "stream",
     "text": [
      "Authenticated using refresh token.\n"
     ]
    }
   ],
   "source": [
    "# establish connection to OpenEO and authenticate\n",
    "connection = openeo.connect(\"openeo-dev.vito.be\").authenticate_oidc()"
   ]
  },
  {
   "cell_type": "code",
   "execution_count": 3,
   "id": "9f0f6049",
   "metadata": {},
   "outputs": [],
   "source": [
    "# specify the geometry --> here we just hardcode Luxemburg\n",
    "polygon =  {\"type\": \"Polygon\", \n",
    "            \"coordinates\": [\n",
    "                [[6.234, 49.9], [6.245, 49.897], [6.268, 49.889], [6.294, 49.879], [6.313, 49.873], [6.343, 49.865], \n",
    "                 [6.392, 49.849], [6.399, 49.847], [6.44, 49.834], [6.452, 49.828], [6.47, 49.823], [6.474, 49.82], \n",
    "                 [6.47, 49.802], [6.467, 49.794], [6.455, 49.765], [6.448, 49.743], [6.433, 49.698], [6.418, 49.653], \n",
    "                 [6.407, 49.627], [6.403, 49.619], [6.399, 49.603], [6.399, 49.6], [6.395, 49.592], [6.384, 49.558], \n",
    "                 [6.38, 49.55], [6.369, 49.473], [6.365, 49.471], [6.339, 49.471], [6.328, 49.471], [6.324, 49.473], \n",
    "                 [6.275, 49.476], [6.257, 49.476], [6.215, 49.478], [6.174, 49.481], [6.144, 49.481], [6.129, 49.484], \n",
    "                 [6.125, 49.484], [6.058, 49.486], [6.009, 49.489], [5.998, 49.492], [5.964, 49.492], [5.957, 49.494], \n",
    "                 [5.942, 49.494], [5.897, 49.497], [5.893, 49.497], [5.844, 49.529], [5.829, 49.539], [5.818, 49.547], \n",
    "                 [5.829, 49.571], [5.859, 49.643], [5.87, 49.672], [5.87, 49.675], [5.885, 49.709], [5.874, 49.72], \n",
    "                 [5.874, 49.722], [5.848, 49.749], [5.803, 49.794], [5.754, 49.844], [5.747, 49.852], [5.747, 49.855], \n",
    "                 [5.754, 49.863], [5.758, 49.865], [5.762, 49.871], [5.762, 49.873], [5.769, 49.881], [5.773, 49.884], \n",
    "                 [5.773, 49.887], [5.803, 49.918], [5.829, 49.953], [5.863, 49.99], [5.964, 50.109], [6.024, 50.183], \n",
    "                 [6.069, 50.162], [6.08, 50.157], [6.114, 50.141], [6.137, 50.13], [6.144, 50.112], [6.163, 50.072], \n",
    "                 [6.182, 50.027], [6.189, 50.011], [6.193, 49.998], [6.2, 49.982], [6.215, 49.95], [6.219, 49.94], \n",
    "                 [6.223, 49.926], [6.227, 49.921], [6.227, 49.918], [6.23, 49.91], [6.234, 49.9]]\n",
    "            ]\n",
    "           }"
   ]
  },
  {
   "cell_type": "code",
   "execution_count": 4,
   "id": "d12d1064",
   "metadata": {},
   "outputs": [
    {
     "data": {
      "image/svg+xml": [
       "<svg xmlns=\"http://www.w3.org/2000/svg\" xmlns:xlink=\"http://www.w3.org/1999/xlink\" width=\"100.0\" height=\"100.0\" viewBox=\"5.7179199999999994 49.441919999999996 0.7851600000000012 0.7701600000000042\" preserveAspectRatio=\"xMinYMin meet\"><g transform=\"matrix(1,0,0,-1,0,99.654)\"><path fill-rule=\"evenodd\" fill=\"#66cc99\" stroke=\"#555555\" stroke-width=\"0.015703200000000025\" opacity=\"0.6\" d=\"M 6.234,49.9 L 6.245,49.897 L 6.268,49.889 L 6.294,49.879 L 6.313,49.873 L 6.343,49.865 L 6.392,49.849 L 6.399,49.847 L 6.44,49.834 L 6.452,49.828 L 6.47,49.823 L 6.474,49.82 L 6.47,49.802 L 6.467,49.794 L 6.455,49.765 L 6.448,49.743 L 6.433,49.698 L 6.418,49.653 L 6.407,49.627 L 6.403,49.619 L 6.399,49.603 L 6.399,49.6 L 6.395,49.592 L 6.384,49.558 L 6.38,49.55 L 6.369,49.473 L 6.365,49.471 L 6.339,49.471 L 6.328,49.471 L 6.324,49.473 L 6.275,49.476 L 6.257,49.476 L 6.215,49.478 L 6.174,49.481 L 6.144,49.481 L 6.129,49.484 L 6.125,49.484 L 6.058,49.486 L 6.009,49.489 L 5.998,49.492 L 5.964,49.492 L 5.957,49.494 L 5.942,49.494 L 5.897,49.497 L 5.893,49.497 L 5.844,49.529 L 5.829,49.539 L 5.818,49.547 L 5.829,49.571 L 5.859,49.643 L 5.87,49.672 L 5.87,49.675 L 5.885,49.709 L 5.874,49.72 L 5.874,49.722 L 5.848,49.749 L 5.803,49.794 L 5.754,49.844 L 5.747,49.852 L 5.747,49.855 L 5.754,49.863 L 5.758,49.865 L 5.762,49.871 L 5.762,49.873 L 5.769,49.881 L 5.773,49.884 L 5.773,49.887 L 5.803,49.918 L 5.829,49.953 L 5.863,49.99 L 5.964,50.109 L 6.024,50.183 L 6.069,50.162 L 6.08,50.157 L 6.114,50.141 L 6.137,50.13 L 6.144,50.112 L 6.163,50.072 L 6.182,50.027 L 6.189,50.011 L 6.193,49.998 L 6.2,49.982 L 6.215,49.95 L 6.219,49.94 L 6.223,49.926 L 6.227,49.921 L 6.227,49.918 L 6.23,49.91 L 6.234,49.9 z\" /></g></svg>"
      ],
      "text/plain": [
       "<POLYGON ((6.234 49.9, 6.245 49.897, 6.268 49.889, 6.294 49.879, 6.313 49.87...>"
      ]
     },
     "execution_count": 4,
     "metadata": {},
     "output_type": "execute_result"
    }
   ],
   "source": [
    "# just for visualization\n",
    "from shapely.geometry import mapping, shape\n",
    "import json\n",
    "shape(polygon)"
   ]
  },
  {
   "cell_type": "code",
   "execution_count": 5,
   "id": "12124c95",
   "metadata": {},
   "outputs": [
    {
     "name": "stderr",
     "output_type": "stream",
     "text": [
      "C:\\Users\\BUCHHORM\\Anaconda3\\envs\\people\\lib\\site-packages\\openeo\\metadata.py:255: UserWarning: No cube:dimensions metadata\n",
      "  complain(\"No cube:dimensions metadata\")\n"
     ]
    }
   ],
   "source": [
    "# get the annual average FCOVER dataset for our area\n",
    "# in original resolution and projection\n",
    "cube = connection.datacube_from_process(\n",
    "    process_id=\"udp_annual_avg_fcover\",\n",
    "    namespace=\"https://raw.githubusercontent.com/integratedmodelling/OpenEO-UDP-UDF-catalogue/main/UDP/json/udp_annual_avg_fcover.json\",\n",
    "    geometry=polygon,   \n",
    "    year=2020,\n",
    "    output_warp=False,\n",
    "    output_epsg=3035,\n",
    "    resolution=100)"
   ]
  },
  {
   "cell_type": "code",
   "execution_count": 6,
   "id": "ca83f27c",
   "metadata": {},
   "outputs": [],
   "source": [
    "# get the annual average FCOVER dataset for our area\n",
    "# warped & resampled to EPSG:3035 and 100m\n",
    "cube2 = connection.datacube_from_process(\n",
    "    process_id=\"udp_annual_avg_fcover\",\n",
    "    namespace=\"https://raw.githubusercontent.com/integratedmodelling/OpenEO-UDP-UDF-catalogue/main/UDP/json/udp_annual_avg_fcover.json\",\n",
    "    geometry=polygon,   \n",
    "    year=2020,\n",
    "    output_warp=True,\n",
    "    output_epsg=3035,\n",
    "    resolution=100)"
   ]
  },
  {
   "cell_type": "code",
   "execution_count": 9,
   "id": "55ecf5c4",
   "metadata": {},
   "outputs": [],
   "source": [
    "# since the result is a single file we do not need a batch job\n",
    "cube.download(r'./FCOVER_annual-average_2020.tif', engine='rasterio')"
   ]
  },
  {
   "cell_type": "code",
   "execution_count": 16,
   "id": "c276ad20",
   "metadata": {},
   "outputs": [],
   "source": [
    "# load file to check\n",
    "import xarray\n",
    "from affine import Affine\n",
    "fcover = xarray.load_dataset(\"FCOVER_annual-average_2020.tif\")"
   ]
  },
  {
   "cell_type": "code",
   "execution_count": null,
   "id": "06fa0992",
   "metadata": {},
   "outputs": [],
   "source": []
  },
  {
   "cell_type": "raw",
   "id": "75b69d88",
   "metadata": {},
   "source": [
    "transform = Affine.from_gdal(*fcover.attrs['affine'])"
   ]
  },
  {
   "cell_type": "code",
   "execution_count": null,
   "id": "70f6a4e6",
   "metadata": {},
   "outputs": [],
   "source": []
  }
 ],
 "metadata": {
  "kernelspec": {
   "display_name": "people",
   "language": "python",
   "name": "people"
  },
  "language_info": {
   "codemirror_mode": {
    "name": "ipython",
    "version": 3
   },
   "file_extension": ".py",
   "mimetype": "text/x-python",
   "name": "python",
   "nbconvert_exporter": "python",
   "pygments_lexer": "ipython3",
   "version": "3.9.16"
  }
 },
 "nbformat": 4,
 "nbformat_minor": 5
}
