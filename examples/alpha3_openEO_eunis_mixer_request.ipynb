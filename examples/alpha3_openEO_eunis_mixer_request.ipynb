{
 "cells": [
  {
   "cell_type": "markdown",
   "id": "49faf2ae",
   "metadata": {},
   "source": [
    "# tests to mix the openEO processed eunis probabilities via UDP\n",
    "This scripts shows how to paramaterize the UDP to retrieve the habitat map from openEO for given year, area. <br>\n",
    "<br>"
   ]
  },
  {
   "cell_type": "code",
   "id": "45414457",
   "metadata": {
    "ExecuteTime": {
     "end_time": "2025-06-11T13:51:03.734876Z",
     "start_time": "2025-06-11T13:51:03.480505Z"
    }
   },
   "source": [
    "import openeo\n",
    "import os\n",
    "from time import sleep"
   ],
   "outputs": [],
   "execution_count": 1
  },
  {
   "cell_type": "code",
   "id": "3236b2a9",
   "metadata": {
    "ExecuteTime": {
     "end_time": "2025-06-11T13:51:05.825896Z",
     "start_time": "2025-06-11T13:51:05.053601Z"
    }
   },
   "source": [
    "# establish connection to OpenEO and authenticate\n",
    "connection = openeo.connect(\"openeo.dataspace.copernicus.eu\").authenticate_oidc()"
   ],
   "outputs": [
    {
     "name": "stdout",
     "output_type": "stream",
     "text": [
      "Authenticated using refresh token.\n"
     ]
    }
   ],
   "execution_count": 2
  },
  {
   "cell_type": "code",
   "id": "eb488213-cce5-4d40-9abc-82b8c4a6f271",
   "metadata": {
    "ExecuteTime": {
     "end_time": "2025-06-11T13:51:07.363544Z",
     "start_time": "2025-06-11T13:51:07.360432Z"
    }
   },
   "source": [
    "#namespace=\"/home/smetsb/PycharmProjects/OpenEO-UDP-UDF-catalogue/UDP/json/udp_eunis_mixer_alpha3.json\"\n",
    "namespace=\"https://raw.githubusercontent.com/ESA-WEED-project/OpenEO-UDP-UDF-catalogue/refs/heads/alpha3_udp/UDP/json/udp_eunis_mixer_alpha3.json\""
   ],
   "outputs": [],
   "execution_count": 3
  },
  {
   "cell_type": "code",
   "id": "9f0f6049",
   "metadata": {
    "ExecuteTime": {
     "end_time": "2025-06-11T13:51:08.373358Z",
     "start_time": "2025-06-11T13:51:08.370215Z"
    }
   },
   "source": [
    "#define parameters\n",
    "#param_bbox = {'west':520000, 'south':4260000,'east':540000,'north':4280000,'crs':32634}\n",
    "param_name = \"34σDH30\"\n",
    "param_bbox = {\"west\":460000, \"south\":4200000,\"east\":480000,\"north\":4220000,\"crs\":32634}\n",
    "param_year = 2024\n",
    "param_digitalId = \"alpha2udp\"\n",
    "param_scenarioId = \"v102\""
   ],
   "outputs": [],
   "execution_count": 4
  },
  {
   "cell_type": "markdown",
   "id": "af5e561e-fc4a-4b20-b5ea-391edbef601d",
   "metadata": {},
   "source": [
    "## get the habitat map"
   ]
  },
  {
   "cell_type": "code",
   "id": "12124c95",
   "metadata": {
    "ExecuteTime": {
     "end_time": "2025-06-11T13:51:13.719524Z",
     "start_time": "2025-06-11T13:51:13.716550Z"
    }
   },
   "source": [
    "#get cube from udp\n",
    "cube = connection.datacube_from_process(\n",
    "    process_id=\"udp_eunis_mixer_alpha3\",\n",
    "    namespace=namespace,\n",
    "    bbox = param_bbox,\n",
    "    year = param_year,\n",
    "    digitalId = param_digitalId,\n",
    "    scenarioId = param_scenarioId,\n",
    "    name = param_name\n",
    "    )"
   ],
   "outputs": [],
   "execution_count": 5
  },
  {
   "cell_type": "code",
   "id": "94954502-6699-4fe4-a902-7067960bb66a",
   "metadata": {
    "ExecuteTime": {
     "end_time": "2025-06-11T13:51:21.349156Z",
     "start_time": "2025-06-11T13:51:15.368253Z"
    }
   },
   "source": [
    "#create and start job\n",
    "job = cube.create_job(title=f'UDP_tests_{param_digitalId}_{param_scenarioId}_AOI',\n",
    "                                    description=f'eunis mixer for tile AOI', auto_add_save_result=False)\n",
    "job.start_job()"
   ],
   "outputs": [
    {
     "ename": "OpenEoApiError",
     "evalue": "[500] Internal: Server error: HTTPError('404 Client Error: Not Found for url: https://catalogue.weed.apex.esa.int/collections//alpha2udp-v102') (ref: r-25061113511640e7ae00f1543bc9bc87)",
     "output_type": "error",
     "traceback": [
      "\u001B[0;31m---------------------------------------------------------------------------\u001B[0m",
      "\u001B[0;31mOpenEoApiError\u001B[0m                            Traceback (most recent call last)",
      "Cell \u001B[0;32mIn[6], line 4\u001B[0m\n\u001B[1;32m      1\u001B[0m \u001B[38;5;66;03m#create and start job\u001B[39;00m\n\u001B[1;32m      2\u001B[0m job \u001B[38;5;241m=\u001B[39m cube\u001B[38;5;241m.\u001B[39mcreate_job(title\u001B[38;5;241m=\u001B[39m\u001B[38;5;124mf\u001B[39m\u001B[38;5;124m'\u001B[39m\u001B[38;5;124mUDP_tests_\u001B[39m\u001B[38;5;132;01m{\u001B[39;00mparam_digitalId\u001B[38;5;132;01m}\u001B[39;00m\u001B[38;5;124m_\u001B[39m\u001B[38;5;132;01m{\u001B[39;00mparam_scenarioId\u001B[38;5;132;01m}\u001B[39;00m\u001B[38;5;124m_AOI\u001B[39m\u001B[38;5;124m'\u001B[39m,\n\u001B[1;32m      3\u001B[0m                                     description\u001B[38;5;241m=\u001B[39m\u001B[38;5;124mf\u001B[39m\u001B[38;5;124m'\u001B[39m\u001B[38;5;124meunis mixer for tile AOI\u001B[39m\u001B[38;5;124m'\u001B[39m, auto_add_save_result\u001B[38;5;241m=\u001B[39m\u001B[38;5;28;01mFalse\u001B[39;00m)\n\u001B[0;32m----> 4\u001B[0m \u001B[43mjob\u001B[49m\u001B[38;5;241;43m.\u001B[39;49m\u001B[43mstart_job\u001B[49m\u001B[43m(\u001B[49m\u001B[43m)\u001B[49m\n",
      "File \u001B[0;32m~/.conda/envs/weed/lib/python3.12/site-packages/openeo/internal/warnings.py:70\u001B[0m, in \u001B[0;36mlegacy_alias.<locals>.wrapper\u001B[0;34m(*args, **kwargs)\u001B[0m\n\u001B[1;32m     68\u001B[0m \u001B[38;5;129m@functools\u001B[39m\u001B[38;5;241m.\u001B[39mwraps(orig)\n\u001B[1;32m     69\u001B[0m \u001B[38;5;28;01mdef\u001B[39;00m \u001B[38;5;21mwrapper\u001B[39m(\u001B[38;5;241m*\u001B[39margs, \u001B[38;5;241m*\u001B[39m\u001B[38;5;241m*\u001B[39mkwargs):\n\u001B[0;32m---> 70\u001B[0m     \u001B[38;5;28;01mreturn\u001B[39;00m \u001B[43morig\u001B[49m\u001B[43m(\u001B[49m\u001B[38;5;241;43m*\u001B[39;49m\u001B[43margs\u001B[49m\u001B[43m,\u001B[49m\u001B[43m \u001B[49m\u001B[38;5;241;43m*\u001B[39;49m\u001B[38;5;241;43m*\u001B[39;49m\u001B[43mkwargs\u001B[49m\u001B[43m)\u001B[49m\n",
      "File \u001B[0;32m~/.conda/envs/weed/lib/python3.12/site-packages/openeo/rest/job.py:126\u001B[0m, in \u001B[0;36mBatchJob.start\u001B[0;34m(self)\u001B[0m\n\u001B[1;32m    116\u001B[0m \u001B[38;5;129m@openeo_endpoint\u001B[39m(\u001B[38;5;124m\"\u001B[39m\u001B[38;5;124mPOST /jobs/\u001B[39m\u001B[38;5;132;01m{job_id}\u001B[39;00m\u001B[38;5;124m/results\u001B[39m\u001B[38;5;124m\"\u001B[39m)\n\u001B[1;32m    117\u001B[0m \u001B[38;5;28;01mdef\u001B[39;00m \u001B[38;5;21mstart\u001B[39m(\u001B[38;5;28mself\u001B[39m) \u001B[38;5;241m-\u001B[39m\u001B[38;5;241m>\u001B[39m BatchJob:\n\u001B[1;32m    118\u001B[0m \u001B[38;5;250m    \u001B[39m\u001B[38;5;124;03m\"\"\"\u001B[39;00m\n\u001B[1;32m    119\u001B[0m \u001B[38;5;124;03m    Start this batch job.\u001B[39;00m\n\u001B[1;32m    120\u001B[0m \n\u001B[0;32m   (...)\u001B[0m\n\u001B[1;32m    124\u001B[0m \u001B[38;5;124;03m        This method was previously called :py:meth:`start_job`.\u001B[39;00m\n\u001B[1;32m    125\u001B[0m \u001B[38;5;124;03m    \"\"\"\u001B[39;00m\n\u001B[0;32m--> 126\u001B[0m     \u001B[38;5;28;43mself\u001B[39;49m\u001B[38;5;241;43m.\u001B[39;49m\u001B[43mconnection\u001B[49m\u001B[38;5;241;43m.\u001B[39;49m\u001B[43mpost\u001B[49m\u001B[43m(\u001B[49m\u001B[38;5;124;43mf\u001B[39;49m\u001B[38;5;124;43m\"\u001B[39;49m\u001B[38;5;124;43m/jobs/\u001B[39;49m\u001B[38;5;132;43;01m{\u001B[39;49;00m\u001B[38;5;28;43mself\u001B[39;49m\u001B[38;5;241;43m.\u001B[39;49m\u001B[43mjob_id\u001B[49m\u001B[38;5;132;43;01m}\u001B[39;49;00m\u001B[38;5;124;43m/results\u001B[39;49m\u001B[38;5;124;43m\"\u001B[39;49m\u001B[43m,\u001B[49m\u001B[43m \u001B[49m\u001B[43mexpected_status\u001B[49m\u001B[38;5;241;43m=\u001B[39;49m\u001B[38;5;241;43m202\u001B[39;49m\u001B[43m)\u001B[49m\n\u001B[1;32m    127\u001B[0m     \u001B[38;5;28;01mreturn\u001B[39;00m \u001B[38;5;28mself\u001B[39m\n",
      "File \u001B[0;32m~/.conda/envs/weed/lib/python3.12/site-packages/openeo/rest/_connection.py:205\u001B[0m, in \u001B[0;36mRestApiConnection.post\u001B[0;34m(self, path, json, **kwargs)\u001B[0m\n\u001B[1;32m    197\u001B[0m \u001B[38;5;28;01mdef\u001B[39;00m \u001B[38;5;21mpost\u001B[39m(\u001B[38;5;28mself\u001B[39m, path: \u001B[38;5;28mstr\u001B[39m, json: Optional[\u001B[38;5;28mdict\u001B[39m] \u001B[38;5;241m=\u001B[39m \u001B[38;5;28;01mNone\u001B[39;00m, \u001B[38;5;241m*\u001B[39m\u001B[38;5;241m*\u001B[39mkwargs) \u001B[38;5;241m-\u001B[39m\u001B[38;5;241m>\u001B[39m Response:\n\u001B[1;32m    198\u001B[0m \u001B[38;5;250m    \u001B[39m\u001B[38;5;124;03m\"\"\"\u001B[39;00m\n\u001B[1;32m    199\u001B[0m \u001B[38;5;124;03m    Do POST request to REST API.\u001B[39;00m\n\u001B[1;32m    200\u001B[0m \n\u001B[0;32m   (...)\u001B[0m\n\u001B[1;32m    203\u001B[0m \u001B[38;5;124;03m    :return: response: Response\u001B[39;00m\n\u001B[1;32m    204\u001B[0m \u001B[38;5;124;03m    \"\"\"\u001B[39;00m\n\u001B[0;32m--> 205\u001B[0m     \u001B[38;5;28;01mreturn\u001B[39;00m \u001B[38;5;28;43mself\u001B[39;49m\u001B[38;5;241;43m.\u001B[39;49m\u001B[43mrequest\u001B[49m\u001B[43m(\u001B[49m\u001B[38;5;124;43m\"\u001B[39;49m\u001B[38;5;124;43mpost\u001B[39;49m\u001B[38;5;124;43m\"\u001B[39;49m\u001B[43m,\u001B[49m\u001B[43m \u001B[49m\u001B[43mpath\u001B[49m\u001B[38;5;241;43m=\u001B[39;49m\u001B[43mpath\u001B[49m\u001B[43m,\u001B[49m\u001B[43m \u001B[49m\u001B[43mjson\u001B[49m\u001B[38;5;241;43m=\u001B[39;49m\u001B[43mjson\u001B[49m\u001B[43m,\u001B[49m\u001B[43m \u001B[49m\u001B[43mallow_redirects\u001B[49m\u001B[38;5;241;43m=\u001B[39;49m\u001B[38;5;28;43;01mFalse\u001B[39;49;00m\u001B[43m,\u001B[49m\u001B[43m \u001B[49m\u001B[38;5;241;43m*\u001B[39;49m\u001B[38;5;241;43m*\u001B[39;49m\u001B[43mkwargs\u001B[49m\u001B[43m)\u001B[49m\n",
      "File \u001B[0;32m~/.conda/envs/weed/lib/python3.12/site-packages/openeo/rest/connection.py:664\u001B[0m, in \u001B[0;36mConnection.request\u001B[0;34m(self, method, path, headers, auth, check_error, expected_status, **kwargs)\u001B[0m\n\u001B[1;32m    657\u001B[0m     \u001B[38;5;28;01mreturn\u001B[39;00m \u001B[38;5;28msuper\u001B[39m(Connection, \u001B[38;5;28mself\u001B[39m)\u001B[38;5;241m.\u001B[39mrequest(\n\u001B[1;32m    658\u001B[0m         method\u001B[38;5;241m=\u001B[39mmethod, path\u001B[38;5;241m=\u001B[39mpath, headers\u001B[38;5;241m=\u001B[39mheaders, auth\u001B[38;5;241m=\u001B[39mauth,\n\u001B[1;32m    659\u001B[0m         check_error\u001B[38;5;241m=\u001B[39mcheck_error, expected_status\u001B[38;5;241m=\u001B[39mexpected_status, \u001B[38;5;241m*\u001B[39m\u001B[38;5;241m*\u001B[39mkwargs,\n\u001B[1;32m    660\u001B[0m     )\n\u001B[1;32m    662\u001B[0m \u001B[38;5;28;01mtry\u001B[39;00m:\n\u001B[1;32m    663\u001B[0m     \u001B[38;5;66;03m# Initial request attempt\u001B[39;00m\n\u001B[0;32m--> 664\u001B[0m     \u001B[38;5;28;01mreturn\u001B[39;00m \u001B[43m_request\u001B[49m\u001B[43m(\u001B[49m\u001B[43m)\u001B[49m\n\u001B[1;32m    665\u001B[0m \u001B[38;5;28;01mexcept\u001B[39;00m OpenEoApiError \u001B[38;5;28;01mas\u001B[39;00m api_exc:\n\u001B[1;32m    666\u001B[0m     \u001B[38;5;28;01mif\u001B[39;00m api_exc\u001B[38;5;241m.\u001B[39mhttp_status_code \u001B[38;5;129;01min\u001B[39;00m {\u001B[38;5;241m401\u001B[39m, \u001B[38;5;241m403\u001B[39m} \u001B[38;5;129;01mand\u001B[39;00m api_exc\u001B[38;5;241m.\u001B[39mcode \u001B[38;5;241m==\u001B[39m \u001B[38;5;124m\"\u001B[39m\u001B[38;5;124mTokenInvalid\u001B[39m\u001B[38;5;124m\"\u001B[39m:\n\u001B[1;32m    667\u001B[0m         \u001B[38;5;66;03m# Auth token expired: can we refresh?\u001B[39;00m\n",
      "File \u001B[0;32m~/.conda/envs/weed/lib/python3.12/site-packages/openeo/rest/connection.py:657\u001B[0m, in \u001B[0;36mConnection.request.<locals>._request\u001B[0;34m()\u001B[0m\n\u001B[1;32m    656\u001B[0m \u001B[38;5;28;01mdef\u001B[39;00m \u001B[38;5;21m_request\u001B[39m():\n\u001B[0;32m--> 657\u001B[0m     \u001B[38;5;28;01mreturn\u001B[39;00m \u001B[38;5;28;43msuper\u001B[39;49m\u001B[43m(\u001B[49m\u001B[43mConnection\u001B[49m\u001B[43m,\u001B[49m\u001B[43m \u001B[49m\u001B[38;5;28;43mself\u001B[39;49m\u001B[43m)\u001B[49m\u001B[38;5;241;43m.\u001B[39;49m\u001B[43mrequest\u001B[49m\u001B[43m(\u001B[49m\n\u001B[1;32m    658\u001B[0m \u001B[43m        \u001B[49m\u001B[43mmethod\u001B[49m\u001B[38;5;241;43m=\u001B[39;49m\u001B[43mmethod\u001B[49m\u001B[43m,\u001B[49m\u001B[43m \u001B[49m\u001B[43mpath\u001B[49m\u001B[38;5;241;43m=\u001B[39;49m\u001B[43mpath\u001B[49m\u001B[43m,\u001B[49m\u001B[43m \u001B[49m\u001B[43mheaders\u001B[49m\u001B[38;5;241;43m=\u001B[39;49m\u001B[43mheaders\u001B[49m\u001B[43m,\u001B[49m\u001B[43m \u001B[49m\u001B[43mauth\u001B[49m\u001B[38;5;241;43m=\u001B[39;49m\u001B[43mauth\u001B[49m\u001B[43m,\u001B[49m\n\u001B[1;32m    659\u001B[0m \u001B[43m        \u001B[49m\u001B[43mcheck_error\u001B[49m\u001B[38;5;241;43m=\u001B[39;49m\u001B[43mcheck_error\u001B[49m\u001B[43m,\u001B[49m\u001B[43m \u001B[49m\u001B[43mexpected_status\u001B[49m\u001B[38;5;241;43m=\u001B[39;49m\u001B[43mexpected_status\u001B[49m\u001B[43m,\u001B[49m\u001B[43m \u001B[49m\u001B[38;5;241;43m*\u001B[39;49m\u001B[38;5;241;43m*\u001B[39;49m\u001B[43mkwargs\u001B[49m\u001B[43m,\u001B[49m\n\u001B[1;32m    660\u001B[0m \u001B[43m    \u001B[49m\u001B[43m)\u001B[49m\n",
      "File \u001B[0;32m~/.conda/envs/weed/lib/python3.12/site-packages/openeo/rest/_connection.py:132\u001B[0m, in \u001B[0;36mRestApiConnection.request\u001B[0;34m(self, method, path, params, headers, auth, check_error, expected_status, **kwargs)\u001B[0m\n\u001B[1;32m    130\u001B[0m expected_status \u001B[38;5;241m=\u001B[39m ensure_list(expected_status) \u001B[38;5;28;01mif\u001B[39;00m expected_status \u001B[38;5;28;01melse\u001B[39;00m []\n\u001B[1;32m    131\u001B[0m \u001B[38;5;28;01mif\u001B[39;00m check_error \u001B[38;5;129;01mand\u001B[39;00m status \u001B[38;5;241m>\u001B[39m\u001B[38;5;241m=\u001B[39m \u001B[38;5;241m400\u001B[39m \u001B[38;5;129;01mand\u001B[39;00m status \u001B[38;5;129;01mnot\u001B[39;00m \u001B[38;5;129;01min\u001B[39;00m expected_status:\n\u001B[0;32m--> 132\u001B[0m     \u001B[38;5;28;43mself\u001B[39;49m\u001B[38;5;241;43m.\u001B[39;49m\u001B[43m_raise_api_error\u001B[49m\u001B[43m(\u001B[49m\u001B[43mresp\u001B[49m\u001B[43m)\u001B[49m\n\u001B[1;32m    133\u001B[0m \u001B[38;5;28;01mif\u001B[39;00m expected_status \u001B[38;5;129;01mand\u001B[39;00m status \u001B[38;5;129;01mnot\u001B[39;00m \u001B[38;5;129;01min\u001B[39;00m expected_status:\n\u001B[1;32m    134\u001B[0m     \u001B[38;5;28;01mraise\u001B[39;00m OpenEoRestError(\n\u001B[1;32m    135\u001B[0m         \u001B[38;5;124m\"\u001B[39m\u001B[38;5;124mGot status code \u001B[39m\u001B[38;5;132;01m{s!r}\u001B[39;00m\u001B[38;5;124m for `\u001B[39m\u001B[38;5;132;01m{m}\u001B[39;00m\u001B[38;5;124m \u001B[39m\u001B[38;5;132;01m{p}\u001B[39;00m\u001B[38;5;124m` (expected \u001B[39m\u001B[38;5;132;01m{e!r}\u001B[39;00m\u001B[38;5;124m) with body \u001B[39m\u001B[38;5;132;01m{body}\u001B[39;00m\u001B[38;5;124m\"\u001B[39m\u001B[38;5;241m.\u001B[39mformat(\n\u001B[1;32m    136\u001B[0m             m\u001B[38;5;241m=\u001B[39mmethod\u001B[38;5;241m.\u001B[39mupper(), p\u001B[38;5;241m=\u001B[39mpath, s\u001B[38;5;241m=\u001B[39mstatus, e\u001B[38;5;241m=\u001B[39mexpected_status, body\u001B[38;5;241m=\u001B[39mresp\u001B[38;5;241m.\u001B[39mtext\n\u001B[1;32m    137\u001B[0m         )\n\u001B[1;32m    138\u001B[0m     )\n",
      "File \u001B[0;32m~/.conda/envs/weed/lib/python3.12/site-packages/openeo/rest/_connection.py:154\u001B[0m, in \u001B[0;36mRestApiConnection._raise_api_error\u001B[0;34m(self, response)\u001B[0m\n\u001B[1;32m    152\u001B[0m     error_message \u001B[38;5;241m=\u001B[39m info\u001B[38;5;241m.\u001B[39mget(\u001B[38;5;124m\"\u001B[39m\u001B[38;5;124mmessage\u001B[39m\u001B[38;5;124m\"\u001B[39m)\n\u001B[1;32m    153\u001B[0m     \u001B[38;5;28;01mif\u001B[39;00m error_code \u001B[38;5;129;01mand\u001B[39;00m \u001B[38;5;28misinstance\u001B[39m(error_code, \u001B[38;5;28mstr\u001B[39m) \u001B[38;5;129;01mand\u001B[39;00m error_message \u001B[38;5;129;01mand\u001B[39;00m \u001B[38;5;28misinstance\u001B[39m(error_message, \u001B[38;5;28mstr\u001B[39m):\n\u001B[0;32m--> 154\u001B[0m         \u001B[38;5;28;01mraise\u001B[39;00m OpenEoApiError(\n\u001B[1;32m    155\u001B[0m             http_status_code\u001B[38;5;241m=\u001B[39mstatus_code,\n\u001B[1;32m    156\u001B[0m             code\u001B[38;5;241m=\u001B[39merror_code,\n\u001B[1;32m    157\u001B[0m             message\u001B[38;5;241m=\u001B[39merror_message,\n\u001B[1;32m    158\u001B[0m             \u001B[38;5;28mid\u001B[39m\u001B[38;5;241m=\u001B[39minfo\u001B[38;5;241m.\u001B[39mget(\u001B[38;5;124m\"\u001B[39m\u001B[38;5;124mid\u001B[39m\u001B[38;5;124m\"\u001B[39m),\n\u001B[1;32m    159\u001B[0m             url\u001B[38;5;241m=\u001B[39minfo\u001B[38;5;241m.\u001B[39mget(\u001B[38;5;124m\"\u001B[39m\u001B[38;5;124murl\u001B[39m\u001B[38;5;124m\"\u001B[39m),\n\u001B[1;32m    160\u001B[0m         )\n\u001B[1;32m    162\u001B[0m \u001B[38;5;66;03m# Failed to parse it as a compliant openEO API error: show body as-is in the exception.\u001B[39;00m\n\u001B[1;32m    163\u001B[0m text \u001B[38;5;241m=\u001B[39m response\u001B[38;5;241m.\u001B[39mtext\n",
      "\u001B[0;31mOpenEoApiError\u001B[0m: [500] Internal: Server error: HTTPError('404 Client Error: Not Found for url: https://catalogue.weed.apex.esa.int/collections//alpha2udp-v102') (ref: r-25061113511640e7ae00f1543bc9bc87)"
     ]
    }
   ],
   "execution_count": 6
  },
  {
   "cell_type": "code",
   "id": "a1112fbd-ddfa-4432-a838-d4343e7c17f3",
   "metadata": {},
   "source": [
    "#follow-up on job\n",
    "print(job.job_id)\n",
    "while job.status() not in ['finished','error','canceled']:\n",
    "    print(f\"going to sleep job not yet done: status : {job.status()}\")\n",
    "    sleep(60)\n",
    "\n",
    "print(f\"Job done: status : {job.status()}\")"
   ],
   "outputs": [],
   "execution_count": null
  },
  {
   "cell_type": "code",
   "id": "6ba817c6-8fa7-401c-931b-873908e9231b",
   "metadata": {},
   "source": [
    "#get results (metadata)\n",
    "\n",
    "job.get_results()"
   ],
   "outputs": [],
   "execution_count": null
  },
  {
   "cell_type": "code",
   "id": "9c6c93bf-6404-4208-bef9-5d5e04e6e094",
   "metadata": {},
   "source": [
    "#get errors\n",
    "job.logs(level='error')"
   ],
   "outputs": [],
   "execution_count": null
  }
 ],
 "metadata": {
  "kernelspec": {
   "display_name": "weed",
   "language": "python",
   "name": "weed"
  },
  "language_info": {
   "codemirror_mode": {
    "name": "ipython",
    "version": 3
   },
   "file_extension": ".py",
   "mimetype": "text/x-python",
   "name": "python",
   "nbconvert_exporter": "python",
   "pygments_lexer": "ipython3",
   "version": "3.12.7"
  }
 },
 "nbformat": 4,
 "nbformat_minor": 5
}
