{
 "cells": [
  {
   "cell_type": "markdown",
   "id": "49faf2ae",
   "metadata": {},
   "source": [
    "# tests to mix the openEO processed eunis probabilities via UDP\n",
    "This scripts shows how to paramaterize the UDP to retrieve the habitat map from openEO for given year, area. <br>\n",
    "<br>"
   ]
  },
  {
   "cell_type": "code",
   "id": "45414457",
   "metadata": {
    "ExecuteTime": {
     "end_time": "2025-06-11T13:15:54.347475Z",
     "start_time": "2025-06-11T13:15:54.096410Z"
    }
   },
   "source": [
    "import openeo\n",
    "import os\n",
    "from time import sleep"
   ],
   "outputs": [],
   "execution_count": 1
  },
  {
   "cell_type": "code",
   "id": "3236b2a9",
   "metadata": {
    "ExecuteTime": {
     "end_time": "2025-06-11T13:15:55.865535Z",
     "start_time": "2025-06-11T13:15:55.031803Z"
    }
   },
   "source": [
    "# establish connection to OpenEO and authenticate\n",
    "connection = openeo.connect(\"openeo.dataspace.copernicus.eu\").authenticate_oidc()"
   ],
   "outputs": [
    {
     "name": "stdout",
     "output_type": "stream",
     "text": [
      "Authenticated using refresh token.\n"
     ]
    }
   ],
   "execution_count": 2
  },
  {
   "cell_type": "code",
   "id": "eb488213-cce5-4d40-9abc-82b8c4a6f271",
   "metadata": {
    "ExecuteTime": {
     "end_time": "2025-06-11T13:15:56.609679Z",
     "start_time": "2025-06-11T13:15:56.604188Z"
    }
   },
   "source": [
    "#namespace=\"/home/smetsb/PycharmProjects/OpenEO-UDP-UDF-catalogue/UDP/json/udp_eunis_mixer_alpha3.json\"\n",
    "namespace=\"https://raw.githubusercontent.com/ESA-WEED-project/OpenEO-UDP-UDF-catalogue/refs/heads/alpha3_udp/UDP/json/udp_eunis_mixer_alpha3.json\""
   ],
   "outputs": [],
   "execution_count": 3
  },
  {
   "cell_type": "code",
   "id": "9f0f6049",
   "metadata": {
    "ExecuteTime": {
     "end_time": "2025-06-11T13:15:59.104048Z",
     "start_time": "2025-06-11T13:15:59.100491Z"
    }
   },
   "source": [
    "#define parameters\n",
    "param_bbox = {'west':520000, 'south':4260000,'east':540000,'north':4280000,'crs':32634}\n",
    "param_year = 2024\n",
    "param_digitalId = \"alpha3udp\"\n",
    "param_scenarioId = \"v101\""
   ],
   "outputs": [],
   "execution_count": 4
  },
  {
   "cell_type": "markdown",
   "id": "af5e561e-fc4a-4b20-b5ea-391edbef601d",
   "metadata": {},
   "source": [
    "## get the habitat map"
   ]
  },
  {
   "cell_type": "code",
   "id": "12124c95",
   "metadata": {
    "ExecuteTime": {
     "end_time": "2025-06-11T13:16:01.153408Z",
     "start_time": "2025-06-11T13:16:01.150078Z"
    }
   },
   "source": [
    "#get cube from udp\n",
    "cube = connection.datacube_from_process(\n",
    "    process_id=\"udp_eunis_mixer_alpha3\",\n",
    "    namespace=namespace,\n",
    "    bbox = param_bbox,\n",
    "    year = param_year,\n",
    "    digitalId = param_digitalId,\n",
    "    scenarioId = param_scenarioId\n",
    "    )"
   ],
   "outputs": [],
   "execution_count": 5
  },
  {
   "cell_type": "code",
   "id": "94954502-6699-4fe4-a902-7067960bb66a",
   "metadata": {
    "ExecuteTime": {
     "end_time": "2025-06-11T13:16:19.556273Z",
     "start_time": "2025-06-11T13:16:03.309997Z"
    }
   },
   "source": [
    "#create and start job\n",
    "job = cube.create_job(title=f'UDP_tests_{param_digitalId}_{param_scenarioId}_AOI',\n",
    "                                    description=f'eunis mixer for tile AOI', auto_add_save_result=False)\n",
    "job.start_job()"
   ],
   "outputs": [
    {
     "data": {
      "text/plain": [
       "<BatchJob job_id='j-250611131604481cb1f57167cfe71b1c'>"
      ],
      "text/html": [
       "\n",
       "    <script>\n",
       "    if (!window.customElements || !window.customElements.get('openeo-job')) {\n",
       "        var el = document.createElement('script');\n",
       "        el.src = \"https://cdn.jsdelivr.net/npm/@openeo/vue-components@2/assets/openeo.min.js\";\n",
       "        document.head.appendChild(el);\n",
       "\n",
       "        var font = document.createElement('font');\n",
       "        font.as = \"font\";\n",
       "        font.type = \"font/woff2\";\n",
       "        font.crossOrigin = true;\n",
       "        font.href = \"https://use.fontawesome.com/releases/v5.13.0/webfonts/fa-solid-900.woff2\"\n",
       "        document.head.appendChild(font);\n",
       "    }\n",
       "    </script>\n",
       "    <openeo-job>\n",
       "        <script type=\"application/json\">{\"currency\": \"credits\", \"job\": {\"created\": \"2025-06-11T13:16:04Z\", \"description\": \"eunis mixer for tile AOI\", \"id\": \"j-250611131604481cb1f57167cfe71b1c\", \"process\": {\"process_graph\": {\"udpeunismixeralpha31\": {\"arguments\": {\"bbox\": {\"crs\": 32634, \"east\": 540000, \"north\": 4280000, \"south\": 4260000, \"west\": 520000}, \"digitalId\": \"alpha3udp\", \"scenarioId\": \"v101\", \"year\": 2024}, \"namespace\": \"https://raw.githubusercontent.com/ESA-WEED-project/OpenEO-UDP-UDF-catalogue/refs/heads/alpha3_udp/UDP/json/udp_eunis_mixer_alpha3.json\", \"process_id\": \"udp_eunis_mixer_alpha3\", \"result\": true}}}, \"progress\": 0, \"status\": \"created\", \"title\": \"UDP_tests_alpha3udp_v101_AOI\", \"updated\": \"2025-06-11T13:16:04Z\"}}</script>\n",
       "    </openeo-job>\n",
       "    "
      ]
     },
     "execution_count": 6,
     "metadata": {},
     "output_type": "execute_result"
    }
   ],
   "execution_count": 6
  },
  {
   "cell_type": "code",
   "id": "a1112fbd-ddfa-4432-a838-d4343e7c17f3",
   "metadata": {
    "ExecuteTime": {
     "end_time": "2025-06-11T13:27:31.613875Z",
     "start_time": "2025-06-11T13:16:26.789199Z"
    }
   },
   "source": [
    "#follow-up on job\n",
    "print(job.job_id)\n",
    "while job.status() not in ['finished','error','canceled']:\n",
    "    print(f\"going to sleep job not yet done: status : {job.status()}\")\n",
    "    sleep(60)\n",
    "\n",
    "print(f\"Job done: status : {job.status()}\")"
   ],
   "outputs": [
    {
     "name": "stdout",
     "output_type": "stream",
     "text": [
      "j-250611131604481cb1f57167cfe71b1c\n",
      "going to sleep job not yet done: status : created\n",
      "going to sleep job not yet done: status : queued\n",
      "going to sleep job not yet done: status : queued\n",
      "going to sleep job not yet done: status : running\n",
      "going to sleep job not yet done: status : running\n",
      "going to sleep job not yet done: status : running\n",
      "going to sleep job not yet done: status : running\n",
      "going to sleep job not yet done: status : running\n",
      "going to sleep job not yet done: status : running\n",
      "going to sleep job not yet done: status : running\n",
      "going to sleep job not yet done: status : running\n",
      "Job done: status : finished\n"
     ]
    }
   ],
   "execution_count": 7
  },
  {
   "cell_type": "code",
   "id": "6ba817c6-8fa7-401c-931b-873908e9231b",
   "metadata": {},
   "source": [
    "#get results (metadata)\n",
    "\n",
    "job.get_results()"
   ],
   "outputs": [],
   "execution_count": null
  },
  {
   "cell_type": "code",
   "id": "9c6c93bf-6404-4208-bef9-5d5e04e6e094",
   "metadata": {},
   "source": [
    "#get errors\n",
    "job.logs(level='error')"
   ],
   "outputs": [],
   "execution_count": null
  }
 ],
 "metadata": {
  "kernelspec": {
   "display_name": "weed",
   "language": "python",
   "name": "weed"
  },
  "language_info": {
   "codemirror_mode": {
    "name": "ipython",
    "version": 3
   },
   "file_extension": ".py",
   "mimetype": "text/x-python",
   "name": "python",
   "nbconvert_exporter": "python",
   "pygments_lexer": "ipython3",
   "version": "3.12.7"
  }
 },
 "nbformat": 4,
 "nbformat_minor": 5
}
